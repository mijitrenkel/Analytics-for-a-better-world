{
  "nbformat": 4,
  "nbformat_minor": 0,
  "metadata": {
    "colab": {
      "name": "ABW Assignment 2 | Notebook | Leon & Miji",
      "provenance": [],
      "collapsed_sections": []
    },
    "kernelspec": {
      "name": "python3",
      "display_name": "Python 3"
    },
    "language_info": {
      "name": "python"
    },
    "accelerator": "GPU"
  },
  "cells": [
    {
      "cell_type": "markdown",
      "metadata": {
        "id": "0wlSIZ5kqk3z"
      },
      "source": [
        "# <img src='https://analyticsbw.org/wp-content/uploads/2020/07/abw-logo.png' align='after' width=120> <br />Assignment 2 | ABW<br /><p>Leon van Rooijen & Miji Trenkel</p>\n",
        "---"
      ]
    },
    {
      "cell_type": "code",
      "metadata": {
        "id": "DUpvhhfOsesS"
      },
      "source": [
        "import sys\n",
        "at_colab = \"google.colab\" in sys.modules\n",
        "if 'google.colab' in sys.modules:\n",
        "    import os\n",
        "    from google.colab import files\n",
        "    # just check if we already uploaded, may we restart the runtime and run all cells\n",
        "    if not os.path.isfile('Data Ermera Timor Leste.xlsx'):\n",
        "        uploaded = files.upload()"
      ],
      "execution_count": null,
      "outputs": []
    },
    {
      "cell_type": "code",
      "metadata": {
        "id": "K5po-FBDsPCj"
      },
      "source": [
        "\n",
        "import pandas as pd\n",
        "\n",
        "data = pd.read_excel( 'Data Ermera Timor Leste.xlsx', sheet_name=None )"
      ],
      "execution_count": null,
      "outputs": []
    },
    {
      "cell_type": "code",
      "metadata": {
        "id": "bLqQomqWsr1y"
      },
      "source": [
        "distances = data['Distances']\n",
        "homes     = data['Homes']\n",
        "locations = data['Potential locations']"
      ],
      "execution_count": null,
      "outputs": []
    },
    {
      "cell_type": "markdown",
      "metadata": {
        "id": "SBLDwQZRuEOa"
      },
      "source": [
        "# Visualize the data"
      ]
    },
    {
      "cell_type": "code",
      "metadata": {
        "id": "6oVlDNkRhjrA"
      },
      "source": [
        "import matplotlib.pyplot as plt\n",
        "%matplotlib inline\n"
      ],
      "execution_count": null,
      "outputs": []
    },
    {
      "cell_type": "code",
      "metadata": {
        "id": "RP2BqBDk5WIn"
      },
      "source": [
        "def ShowFacilityLocation( xC, yC, xF, yF, X=[], Y=[], served=None ):\n",
        "    plt.plot( xC,yC, 'o' )\n",
        "    plt.plot( xF,yF, 's', mfc='none' )\n",
        "    [ plt.plot( [xC[i],xF[j]], [yC[i],yF[j]], 'g-' ) for j in range(len(X)) if X[j] for i in range(len(Y)) if Y[i][j] ] \n",
        "    for j in range(len(X)):\n",
        "      if X[j] > .5:\n",
        "        plt.plot( xF[j],yF[j], 's', color='y' )\n",
        "    if not served is None:\n",
        "        plt.title( '{:.2f}%'.format(served/len(xC)*100) )\n",
        "    plt.show()"
      ],
      "execution_count": null,
      "outputs": []
    },
    {
      "cell_type": "code",
      "metadata": {
        "id": "OUu3mwgFUROb"
      },
      "source": [
        "plt.rcParams[\"figure.figsize\"] = (13,8)"
      ],
      "execution_count": null,
      "outputs": []
    },
    {
      "cell_type": "markdown",
      "metadata": {
        "id": "v2Zqt3GHhuBJ"
      },
      "source": [
        "# Prerequisites for mathematical optimization\n"
      ]
    },
    {
      "cell_type": "code",
      "metadata": {
        "id": "XsA5w1Nn4-eB",
        "colab": {
          "base_uri": "https://localhost:8080/"
        },
        "outputId": "06ce9707-ef15-446b-ba96-f89bdccfa0c1"
      },
      "source": [
        "import shutil\n",
        "if not shutil.which('pyomo'):\n",
        "    !pip install -q pyomo\n",
        "    assert(shutil.which('pyomo'))\n",
        "\n",
        "import sys\n",
        "if 'google.colab' in sys.modules:\n",
        "    !apt-get install -y -qq coinor-cbc\n",
        "\n",
        "!wget -N -q \"https://ampl.com/dl/open/bonmin/bonmin-linux64.zip\"\n",
        "!unzip -o -q bonmin-linux64\n",
        "\n",
        "\n",
        "import pyomo.environ as pyo\n",
        "\n",
        "if at_colab:\n",
        "    # we add glpk now\n",
        "    !sudo apt install libglpk-dev python3.8-dev libgmp3-dev\n",
        "    !apt-get install -y -qq glpk-utils\n",
        "\n",
        "    #and also cbc\n",
        "    !apt-get install -y -qq coinor-cbc\n",
        "\n",
        "if at_colab:\n",
        "    cbc  = pyo.SolverFactory('cbc', executable='/usr/bin/cbc')\n",
        "    glpk = pyo.SolverFactory('glpk', executable='/usr/bin/glpsol')\n",
        "else:\n",
        "    cbc  = pyo.SolverFactory('cbc') # adapt if needed    \n",
        "    glpk = pyo.SolverFactory('glpk') # adapt if needed"
      ],
      "execution_count": null,
      "outputs": [
        {
          "output_type": "stream",
          "name": "stdout",
          "text": [
            "Reading package lists... Done\n",
            "Building dependency tree       \n",
            "Reading state information... Done\n",
            "libgmp3-dev is already the newest version (2:6.1.2+dfsg-2).\n",
            "libglpk-dev is already the newest version (4.65-1).\n",
            "python3.8-dev is already the newest version (3.8.12-1+bionic1).\n",
            "0 upgraded, 0 newly installed, 0 to remove and 37 not upgraded.\n"
          ]
        }
      ]
    },
    {
      "cell_type": "markdown",
      "metadata": {
        "id": "NdgUy6pFe0Zx"
      },
      "source": [
        "# Linear optimization model"
      ]
    },
    {
      "cell_type": "code",
      "metadata": {
        "id": "2_Zr_FEmujGI",
        "colab": {
          "base_uri": "https://localhost:8080/",
          "height": 699
        },
        "outputId": "c8ff91c7-a374-46b4-b132-a8de33720624"
      },
      "source": [
        "\n",
        "def hospital_model(maxDistance = 3, householdSize = 1, numberOfHospitals = 5): \n",
        "  model = pyo.ConcreteModel(\"Hospital locations\")\n",
        "\n",
        "  #Home and location sets\n",
        "  model.homes = len(homes)\n",
        "  model.locations = len(locations)\n",
        "\n",
        "  model.I = range(model.homes)\n",
        "  model.J = range(model.locations)\n",
        "\n",
        "  #Variables that need to be evaluated\n",
        "  model.y = pyo.Var(model.I, model.J, domain=pyo.Binary)\n",
        "  model.x = pyo.Var(model.J, domain=pyo.Binary)\n",
        "\n",
        "  #Objective\n",
        "  model.placedLocations = pyo.Objective(expr = pyo.quicksum(model.y[home, hospital]*householdSize for home in model.I for hospital in model.J), sense=pyo.maximize)\n",
        "\n",
        "  #There is only budget to build a certain amount of hospitals\n",
        "  model.costConstraint = pyo.Constraint(expr = (sum(model.x[hospital] for hospital in model.J)) <= numberOfHospitals)\n",
        "\n",
        "  #People can only be served by hospitals that are opened.\n",
        "  def assign_if_open_rule(model, i, j ):\n",
        "    return model.y[i,j] <= model.x[j]\n",
        "  model.assign = pyo.Constraint( model.I, model.J, rule=assign_if_open_rule )\n",
        "\n",
        "  #People can be served by only one hospital maximum\n",
        "  def assigned_one_hospital_rule(model, i):\n",
        "    return pyo.quicksum([model.y[i,j] for j in model.J]) <= 1\n",
        "  model.assigned = pyo.Constraint(model.I, rule=assigned_one_hospital_rule)\n",
        "\n",
        "  #The distance should be less than the maximum allowed travel distance\n",
        "  def distance_constraint_rule(model, i, j):\n",
        "    if(distances.loc[i, j] > maxDistance):\n",
        "      return model.y[i, j] == 0\n",
        "    return pyo.Constraint.Skip\n",
        "  model.open = pyo.Constraint(model.I, model.J, rule=distance_constraint_rule)\n",
        "\n",
        "  return model\n",
        "\n",
        "#Obtain the solution\n",
        "solution = hospital_model()\n",
        "%time results = cbc.solve(solution)\n",
        "\n",
        "print(\"----- [ Summary ] -----\")\n",
        "print(\"Households with access: \", pyo.value(solution.placedLocations))\n",
        "print(\"Optimal locations:\")\n",
        "for location in solution.J:\n",
        "  if(solution.x[location]() == 1):\n",
        "    print(\"Location : \", location)\n",
        "\n",
        "print(\"----- [ Map ] -----\")\n",
        "X = [ pyo.value( solution.x[j] ) >= .5 for j in solution.J ]\n",
        "Y = [ [ pyo.value( solution.y[i,j] ) >= .5 for j in solution.J ] for i in solution.I ]\n",
        "ShowFacilityLocation( xC, yC, xF, yF, X, Y, pyo.value(solution.placedLocations))\n",
        "\n",
        "\n"
      ],
      "execution_count": null,
      "outputs": [
        {
          "output_type": "stream",
          "name": "stdout",
          "text": [
            "CPU times: user 10.7 s, sys: 250 ms, total: 11 s\n",
            "Wall time: 13.2 s\n",
            "----- [ Summary ] -----\n",
            "Households with access:  985.0\n",
            "Optimal locations:\n",
            "Location :  16\n",
            "Location :  34\n",
            "Location :  37\n",
            "Location :  45\n",
            "Location :  88\n",
            "----- [ Map ] -----\n"
          ]
        },
        {
          "output_type": "display_data",
          "data": {
            "image/png": "[encoded data removed]",
            "text/plain": [
              "<Figure size 936x576 with 1 Axes>"
            ]
          },
          "metadata": {
            "needs_background": "light"
          }
        }
      ]
    },
    {
      "cell_type": "markdown",
      "metadata": {
        "id": "BAyI8OQBwp1k"
      },
      "source": [
        ""
      ]
    }
  ]
}